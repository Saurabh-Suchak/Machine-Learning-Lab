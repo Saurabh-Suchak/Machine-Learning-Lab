{
  "nbformat": 4,
  "nbformat_minor": 0,
  "metadata": {
    "colab": {
      "provenance": []
    },
    "kernelspec": {
      "name": "python3",
      "display_name": "Python 3"
    },
    "language_info": {
      "name": "python"
    }
  },
  "cells": [
    {
      "cell_type": "code",
      "execution_count": null,
      "metadata": {
        "id": "WoTZqxdYziaJ"
      },
      "outputs": [],
      "source": [
        "import random\n",
        "import numpy as np\n",
        "\n",
        "def stepactivation(g):\n",
        "  if g >= 0:\n",
        "    return 1\n",
        "  else:\n",
        "    return 0"
      ]
    },
    {
      "cell_type": "code",
      "source": [
        "def perceptron(w, x, b):\n",
        "  g = np.dot(w, x) + b\n",
        "  y = stepactivation(g)\n",
        "  return y"
      ],
      "metadata": {
        "id": "i01rAZ9T5EhT"
      },
      "execution_count": null,
      "outputs": []
    },
    {
      "cell_type": "code",
      "source": [
        "def AndGate(x):\n",
        "  w = np.array([1,1])\n",
        "  b = -1.5\n",
        "  return perceptron(w, x, b)\n",
        "\n",
        "def NotGate(x):\n",
        "  wn = -1\n",
        "  bn = 0.5\n",
        "  return perceptron(x, wn, bn)\n",
        "\n",
        "def OrGate(x):\n",
        "  w = np.array([1,1])\n",
        "  b = -0.5\n",
        "  return perceptron(x,w,b)\n",
        "\n",
        "# function calls in sequence\n",
        "def XorGate(x):\n",
        "    y1 = AndGate(x)\n",
        "    y2 = OrGate(x)\n",
        "    y3 = NotGate(y1)\n",
        "    final_x = np.array([y2, y3])\n",
        "    finalOutput = AndGate(final_x)\n",
        "    return finalOutput"
      ],
      "metadata": {
        "id": "QTAEnQhC5Z-K"
      },
      "execution_count": null,
      "outputs": []
    },
    {
      "cell_type": "code",
      "source": [
        "test1 = np.array([0,0])\n",
        "test2 = np.array([0,1])\n",
        "test3 = np.array([1,0])\n",
        "test4 = np.array([1,1])\n",
        "\n",
        "print(\"AND Gate:\")\n",
        "print(\"AND ({},{}) = {}\".format(0,0, AndGate(test1)))\n",
        "print(\"AND ({},{}) = {}\".format(0,1, AndGate(test2)))\n",
        "print(\"AND ({},{}) = {}\".format(1,0, AndGate(test3)))\n",
        "print(\"AND ({},{}) = {}\".format(1,1, AndGate(test4)))\n",
        "print(\"\")\n",
        "\n",
        "print(\"NOT Gate:\")\n",
        "print(\"NOT ({}) = {}\".format(1, NotGate(1)))\n",
        "print(\"NOT ({}) = {}\".format(0, NotGate(0)))\n",
        "print(\"\")\n",
        "\n",
        "\n",
        "print(\"OR Gate:\")\n",
        "print(\"OR ({},{}) = {}\".format(0,0, OrGate(test1)))\n",
        "print(\"OR ({},{}) = {}\".format(0,1, OrGate(test2)))\n",
        "print(\"OR ({},{}) = {}\".format(1,0, OrGate(test3)))\n",
        "print(\"OR ({},{}) = {}\".format(1,1, OrGate(test4)))\n",
        "print(\"\")\n",
        "\n",
        "print(\"XOR Gate:\")\n",
        "print(\"XOR({}, {}) = {}\".format(0, 0, XorGate(test1)))\n",
        "print(\"XOR({}, {}) = {}\".format(0, 1, XorGate(test2)))\n",
        "print(\"XOR({}, {}) = {}\".format(1, 0, XorGate(test3)))\n",
        "print(\"XOR({}, {}) = {}\".format(1, 1, XorGate(test4)))"
      ],
      "metadata": {
        "colab": {
          "base_uri": "https://localhost:8080/"
        },
        "id": "E1KcDhL86gCy",
        "outputId": "4b3898a8-9799-4432-a099-ca9f187b151d"
      },
      "execution_count": null,
      "outputs": [
        {
          "output_type": "stream",
          "name": "stdout",
          "text": [
            "AND Gate:\n",
            "AND (0,0) = 0\n",
            "AND (0,1) = 0\n",
            "AND (1,0) = 0\n",
            "AND (1,1) = 1\n",
            "\n",
            "NOT Gate:\n",
            "NOT (1) = 0\n",
            "NOT (0) = 1\n",
            "\n",
            "OR Gate:\n",
            "OR (0,0) = 0\n",
            "OR (0,1) = 1\n",
            "OR (1,0) = 1\n",
            "OR (1,1) = 1\n",
            "\n",
            "XOR Gate:\n",
            "XOR(0, 0) = 0\n",
            "XOR(0, 1) = 1\n",
            "XOR(1, 0) = 1\n",
            "XOR(1, 1) = 0\n"
          ]
        }
      ]
    }
  ]
}